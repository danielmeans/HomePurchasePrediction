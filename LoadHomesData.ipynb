{
 "cells": [
  {
   "cell_type": "code",
   "execution_count": null,
   "metadata": {
    "scrolled": false
   },
   "outputs": [],
   "source": [
    "\n",
    "        \n",
    "        "
   ]
  },
  {
   "cell_type": "code",
   "execution_count": null,
   "metadata": {},
   "outputs": [],
   "source": [
    "#This Code snippet creates a dataset of Appfolio tenants matched with home purchases\n",
    "import csv\n",
    "with open ('ArlingtonHomePurchases.csv', 'r') as purchases, open ('TenantsMetroDCWithMoveOut.csv', 'r') as tenants:\n",
    "    purchasesReader = csv.reader(purchases, delimiter=',')\n",
    "    tenantsReader = csv.reader(tenants, delimiter=',')\n",
    "    \n",
    "    tenantFirstNameIndex = 1\n",
    "    tenantLastNameIndex = 2\n",
    "    tenantIDIndex = 0\n",
    "    tenantMoveOutIndex = 3\n",
    "    \n",
    "    purchaseDateIndex = 11\n",
    "    purchaseNameIndex = 9\n",
    " \n",
    "    \n",
    "    \n",
    "    tenantSetList = []\n",
    "    for tenantRow in tenantsReader:\n",
    "            tenantNameSet = set([tenantRow[tenantFirstNameIndex].lower(), tenantRow[tenantLastNameIndex].lower()])\n",
    "            tenantID = tenantRow[tenantIDIndex]\n",
    "            tenantMoveOut = tenantRow[tenantMoveOutIndex]\n",
    "            tenantSetList.append([tenantID, tenantMoveOut, tenantNameSet])\n",
    "            \n",
    "            \n",
    "    for purchaseRow in purchasesReader:\n",
    "        purchaseNameSet = set(purchaseRow[purchaseNameIndex].lower().split(' '))\n",
    "        for tenantNameSet in tenantSetList:\n",
    "            intersection = purchaseNameSet.intersection(tenantNameSet[2])\n",
    "            if len(intersection) >= 2:\n",
    "                print(tenantNameSet[0],',', purchaseRow[0],',', tenantNameSet[1], ',', purchaseRow[purchaseDateIndex][0:10], ',', ' '.join(tenantNameSet[2]), ',', purchaseRow[purchaseNameIndex].lower())\n",
    "            \n",
    "                "
   ]
  },
  {
   "cell_type": "code",
   "execution_count": null,
   "metadata": {},
   "outputs": [],
   "source": []
  },
  {
   "cell_type": "code",
   "execution_count": null,
   "metadata": {},
   "outputs": [],
   "source": [
    "#This code snippet counts the number of unique tenants matched as home buyers\n",
    "import csv\n",
    "with open ('TenantHomeBuyers.csv') as tenantBuyers:\n",
    "    tenantBuyersReader = csv.reader(tenantBuyers, delimiter=\",\")\n",
    "    tenantNameIndex = 1\n",
    "    tenantNameSet = set([])\n",
    "    \n",
    "    for row in tenantBuyersReader:\n",
    "        tenantNameSet.add(row[tenantNameIndex])\n",
    "    print(len(tenantNameSet))"
   ]
  },
  {
   "cell_type": "code",
   "execution_count": null,
   "metadata": {},
   "outputs": [],
   "source": [
    "#This snippet further filters the tenant-home buyer matches to include tenants who moved out of their apartment within\n",
    "#six months of purchasing a home and removing common names who appear multiple times in the same year in the home buyers\n",
    "# data set\n",
    "import csv\n",
    "import datetime\n",
    "\n",
    "with open ('TenantHomeBuyerswithDates.csv') as tenantBuyers, open ('ArlingtonHomePurchases.csv') as purchases:\n",
    "    tenantBuyersReader = csv.reader(tenantBuyers, delimiter=\",\")\n",
    "    purchasesReader = csv.reader(purchases, delimiter=',')\n",
    "    tenantNameIndex = 1\n",
    "    purchaseDateIndex = 3\n",
    "    moveOutDateIndex = 2\n",
    "    purchaseNameIndex = 5\n",
    "    tenantBuyers = []\n",
    "    \n",
    "    purchaseDateIndexOrg = 11\n",
    "    purchaseNameIndexOrg = 9\n",
    "    nameDateDict = {}\n",
    "    \n",
    "    def purchaseNameDateDictCreator():\n",
    "        firstLine = True\n",
    "        for purchaseRow in purchasesReader:\n",
    "            if firstLine:\n",
    "                firstLine = False\n",
    "                continue\n",
    "            purchaseDate = purchaseRow[purchaseDateIndexOrg][0:10]\n",
    "            purchaseName = purchaseRow[purchaseNameIndexOrg]\n",
    "            if purchaseName in nameDateDict:\n",
    "                nameDateDict[purchaseName] += [purchaseDate]\n",
    "            else: \n",
    "                nameDateDict[purchaseName] = [purchaseDate]\n",
    "        return nameDateDict\n",
    "    \n",
    "    def namesAppearingOften(freq, nameDateDict):\n",
    "        tempDateArray = []\n",
    "        names = []\n",
    "        for key in nameDateDict.keys():\n",
    "            tempDateArray = []\n",
    "            for dateString in nameDateDict[key]:\n",
    "                tempDateArray += [datetime.datetime.strptime(dateString, '%Y-%m-%d')]\n",
    "            prev = datetime.datetime.strptime('01-01-50', '%m-%d-%y')\n",
    "            nameFlag = False\n",
    "            for date in sorted(tempDateArray):\n",
    "                if abs((date - prev).days) < freq:\n",
    "                    nameFlag = True\n",
    "                prev = date\n",
    "            if nameFlag: names += [key.lower()]\n",
    "        return names\n",
    "    \n",
    "    frequentNames = namesAppearingOften(365, purchaseNameDateDictCreator())\n",
    "    print('Frequent Names:' + str(len(frequentNames)))\n",
    "    \n",
    "    for row in tenantBuyersReader:\n",
    "        moveOutString = row[moveOutDateIndex].strip()\n",
    "        if moveOutString:\n",
    "            moveOutDate = datetime.datetime.strptime(moveOutString, '%Y-%m-%d')\n",
    "            purchaseDate = datetime.datetime.strptime(row[purchaseDateIndex].strip(), '%Y-%m-%d')\n",
    "            date_difference = abs((moveOutDate - purchaseDate).days)\n",
    "            date_window = 180\n",
    "            purchaseName = row[purchaseNameIndex]\n",
    "            if date_difference < date_window  and (purchaseName not in frequentNames):\n",
    "                tenantBuyers.append(row)\n",
    "    print(len(tenantBuyers))\n",
    "    \n",
    "    tenantSet = set()\n",
    "    for tenant in tenantBuyers:\n",
    "        tenantSet.add(tenant[0])\n",
    "    print(len(tenantSet))\n",
    "    \n",
    "    print(tenantBuyers)\n",
    "    "
   ]
  },
  {
   "cell_type": "code",
   "execution_count": null,
   "metadata": {},
   "outputs": [],
   "source": [
    "\n"
   ]
  },
  {
   "cell_type": "code",
   "execution_count": null,
   "metadata": {},
   "outputs": [],
   "source": []
  }
 ],
 "metadata": {
  "kernelspec": {
   "display_name": "Python 3",
   "language": "python",
   "name": "python3"
  },
  "language_info": {
   "codemirror_mode": {
    "name": "ipython",
    "version": 3
   },
   "file_extension": ".py",
   "mimetype": "text/x-python",
   "name": "python",
   "nbconvert_exporter": "python",
   "pygments_lexer": "ipython3",
   "version": "3.7.0"
  }
 },
 "nbformat": 4,
 "nbformat_minor": 2
}
